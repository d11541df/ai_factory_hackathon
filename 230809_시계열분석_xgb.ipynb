{
 "cells": [
  {
   "cell_type": "code",
   "execution_count": 148,
   "id": "5a79f8f9-619b-4616-bf00-c3115ceb6fb4",
   "metadata": {},
   "outputs": [],
   "source": [
    "import warnings\n",
    "# 경고 무시하기\n",
    "warnings.filterwarnings(\"ignore\", category=FutureWarning)\n",
    "\n",
    "import pandas as pd\n",
    "import numpy as np\n",
    "\n",
    "import seaborn as sns\n",
    "import matplotlib.pyplot as plt\n",
    "\n",
    "from sklearn.preprocessing import StandardScaler, MinMaxScaler, LabelEncoder\n",
    "from sklearn.decomposition import PCA\n",
    "from scipy import stats\n",
    "\n",
    "import tensorflow as tf \n",
    "from keras.models import Model, Sequential\n",
    "from keras.layers import Input, Dense\n",
    "\n",
    "from sklearn.model_selection import KFold, train_test_split, cross_val_score, GridSearchCV\n",
    "from sklearn.metrics import r2_score, make_scorer, mean_squared_error, mean_absolute_error\n",
    "from sklearn.ensemble import BaggingRegressor, RandomForestRegressor, AdaBoostRegressor\n",
    "from sklearn.tree import DecisionTreeRegressor\n",
    "from sklearn.svm import SVR\n",
    "from sklearn.linear_model import LinearRegression, Ridge, BayesianRidge, HuberRegressor, Lasso\n",
    "from xgboost import XGBRegressor\n",
    "import xgboost as xgb\n",
    "from lightgbm import LGBMRegressor\n",
    "\n",
    "# SimpleImputer는 이 라인을 유지합니다\n",
    "from sklearn.impute import SimpleImputer\n"
   ]
  },
  {
   "cell_type": "code",
   "execution_count": 117,
   "id": "72123939-1140-48a0-8703-471ae1605e70",
   "metadata": {},
   "outputs": [],
   "source": [
    "## feature_engineering\n",
    "\n",
    "train_df = pd.read_csv(\"./csv_file/Q1_train.csv\")\n",
    "test_df = pd.read_csv(\"./csv_file/Q1_train.csv\")"
   ]
  },
  {
   "cell_type": "code",
   "execution_count": 118,
   "id": "bc1010eb-0068-469a-9d66-5b8e8bff68ea",
   "metadata": {},
   "outputs": [],
   "source": [
    "labels = train_df['uenomax']\n",
    "data = pd.concat([train_df, test_df], ignore_index = True)\n",
    "data = data.drop(\"uenomax\", 1)\n",
    "ids = test_df['ru_id']"
   ]
  },
  {
   "cell_type": "code",
   "execution_count": 119,
   "id": "cecb9a0b-dfc0-49af-87f5-f133b5287aba",
   "metadata": {},
   "outputs": [],
   "source": [
    "data[\"datetime\"] = data[\"datetime\"].apply(pd.to_datetime)\n",
    "\n",
    "data[\"year\"] = data[\"datetime\"].dt.year\n",
    "data[\"month\"] = data[\"datetime\"].dt.month\n",
    "data[\"day\"] = data[\"datetime\"].dt.day\n",
    "data[\"hour\"] = data[\"datetime\"].dt.hour\n",
    "data[\"minute\"] = data[\"datetime\"].dt.minute"
   ]
  },
  {
   "cell_type": "code",
   "execution_count": 120,
   "id": "4d492528-71cc-429d-a04b-5b0be2116375",
   "metadata": {},
   "outputs": [],
   "source": [
    "encoder = LabelEncoder()\n",
    "train_df['ru_id_encoder'] = encoder.fit_transform(train_df['ru_id'])\n",
    "train_df['ru_id_encoder'] = encoder.fit_transform(train_df['ru_id'])"
   ]
  },
  {
   "cell_type": "code",
   "execution_count": 121,
   "id": "41c968ae-39f9-45c0-8d7e-e46f45f73ff2",
   "metadata": {},
   "outputs": [],
   "source": [
    "data.drop( ['datetime','ru_id','erabaddatt', 'endcaddatt', 'endcmodbymenbatt', 'endcmodbysgnbatt', 'connestabatt', 'handoveratt', 'reestabatt', 'rachpreamblea'], axis=1, inplace=True)"
   ]
  },
  {
   "cell_type": "code",
   "execution_count": 122,
   "id": "5f1e793b-fc3a-4f17-8fe1-b357428ae0a6",
   "metadata": {},
   "outputs": [
    {
     "data": {
      "text/plain": [
       "scgfail                                0\n",
       "scgfailratio                           0\n",
       "erabaddsucc                            0\n",
       "endcaddsucc                            0\n",
       "endcmodbymenbsucc                      0\n",
       "endcmodbysgnbsucc                      0\n",
       "connestabsucc                          0\n",
       "redirectiontolte_coverageout           0\n",
       "redirectiontolte_epsfallback           0\n",
       "redirectiontolte_emergencyfallback     0\n",
       "handoversucc                           0\n",
       "reestabsucc                            0\n",
       "rlculbyte                             18\n",
       "rlcdlbyte                             18\n",
       "totprbulavg                           18\n",
       "totprbdlavg                           18\n",
       "dlreceivedriavg                       18\n",
       "dltransmittedmcsavg                   18\n",
       "airmaculbyte                          18\n",
       "airmacdlbyte                          18\n",
       "bler_ul                               18\n",
       "bler_dl                               18\n",
       "numrar                                18\n",
       "nummsg3                               18\n",
       "attpaging                             18\n",
       "rssipathavg                           18\n",
       "dlreceivedcqiavg                      18\n",
       "endcrelbymenb                          0\n",
       "year                                   0\n",
       "month                                  0\n",
       "day                                    0\n",
       "hour                                   0\n",
       "minute                                 0\n",
       "dtype: int64"
      ]
     },
     "execution_count": 122,
     "metadata": {},
     "output_type": "execute_result"
    }
   ],
   "source": [
    "data.isna().sum()"
   ]
  },
  {
   "cell_type": "code",
   "execution_count": 123,
   "id": "62aaebe2-d42f-48de-9307-f7bfaced78a0",
   "metadata": {
    "tags": []
   },
   "outputs": [],
   "source": [
    "imputer = SimpleImputer(strategy='mean')\n",
    "data = pd.DataFrame(imputer.fit_transform(data), columns=data.columns)"
   ]
  },
  {
   "cell_type": "code",
   "execution_count": 124,
   "id": "4d756472-e0b1-4dfb-b874-e35c4cc18fd2",
   "metadata": {},
   "outputs": [
    {
     "data": {
      "text/html": [
       "<div>\n",
       "<style scoped>\n",
       "    .dataframe tbody tr th:only-of-type {\n",
       "        vertical-align: middle;\n",
       "    }\n",
       "\n",
       "    .dataframe tbody tr th {\n",
       "        vertical-align: top;\n",
       "    }\n",
       "\n",
       "    .dataframe thead th {\n",
       "        text-align: right;\n",
       "    }\n",
       "</style>\n",
       "<table border=\"1\" class=\"dataframe\">\n",
       "  <thead>\n",
       "    <tr style=\"text-align: right;\">\n",
       "      <th></th>\n",
       "      <th>scgfail</th>\n",
       "      <th>scgfailratio</th>\n",
       "      <th>erabaddsucc</th>\n",
       "      <th>endcaddsucc</th>\n",
       "      <th>endcmodbymenbsucc</th>\n",
       "      <th>endcmodbysgnbsucc</th>\n",
       "      <th>connestabsucc</th>\n",
       "      <th>redirectiontolte_coverageout</th>\n",
       "      <th>redirectiontolte_epsfallback</th>\n",
       "      <th>redirectiontolte_emergencyfallback</th>\n",
       "      <th>...</th>\n",
       "      <th>nummsg3</th>\n",
       "      <th>attpaging</th>\n",
       "      <th>rssipathavg</th>\n",
       "      <th>dlreceivedcqiavg</th>\n",
       "      <th>endcrelbymenb</th>\n",
       "      <th>year</th>\n",
       "      <th>month</th>\n",
       "      <th>day</th>\n",
       "      <th>hour</th>\n",
       "      <th>minute</th>\n",
       "    </tr>\n",
       "  </thead>\n",
       "  <tbody>\n",
       "    <tr>\n",
       "      <th>0</th>\n",
       "      <td>0.0</td>\n",
       "      <td>0.0</td>\n",
       "      <td>12.0</td>\n",
       "      <td>10.0</td>\n",
       "      <td>0.0</td>\n",
       "      <td>0.0</td>\n",
       "      <td>4.0</td>\n",
       "      <td>0.0</td>\n",
       "      <td>0.0</td>\n",
       "      <td>0.0</td>\n",
       "      <td>...</td>\n",
       "      <td>17.0</td>\n",
       "      <td>2243.0</td>\n",
       "      <td>-93.3</td>\n",
       "      <td>11.1</td>\n",
       "      <td>0.0</td>\n",
       "      <td>2023.0</td>\n",
       "      <td>5.0</td>\n",
       "      <td>19.0</td>\n",
       "      <td>0.0</td>\n",
       "      <td>0.0</td>\n",
       "    </tr>\n",
       "    <tr>\n",
       "      <th>1</th>\n",
       "      <td>0.0</td>\n",
       "      <td>0.0</td>\n",
       "      <td>28.0</td>\n",
       "      <td>27.0</td>\n",
       "      <td>11.0</td>\n",
       "      <td>33.0</td>\n",
       "      <td>1.0</td>\n",
       "      <td>0.0</td>\n",
       "      <td>0.0</td>\n",
       "      <td>0.0</td>\n",
       "      <td>...</td>\n",
       "      <td>39.0</td>\n",
       "      <td>2240.0</td>\n",
       "      <td>-93.5</td>\n",
       "      <td>10.2</td>\n",
       "      <td>4.0</td>\n",
       "      <td>2023.0</td>\n",
       "      <td>5.0</td>\n",
       "      <td>19.0</td>\n",
       "      <td>0.0</td>\n",
       "      <td>0.0</td>\n",
       "    </tr>\n",
       "    <tr>\n",
       "      <th>2</th>\n",
       "      <td>1.0</td>\n",
       "      <td>3.7</td>\n",
       "      <td>27.0</td>\n",
       "      <td>17.0</td>\n",
       "      <td>8.0</td>\n",
       "      <td>15.0</td>\n",
       "      <td>4.0</td>\n",
       "      <td>1.0</td>\n",
       "      <td>0.0</td>\n",
       "      <td>0.0</td>\n",
       "      <td>...</td>\n",
       "      <td>53.0</td>\n",
       "      <td>1337.0</td>\n",
       "      <td>-92.7</td>\n",
       "      <td>11.3</td>\n",
       "      <td>2.0</td>\n",
       "      <td>2023.0</td>\n",
       "      <td>5.0</td>\n",
       "      <td>19.0</td>\n",
       "      <td>0.0</td>\n",
       "      <td>0.0</td>\n",
       "    </tr>\n",
       "    <tr>\n",
       "      <th>3</th>\n",
       "      <td>0.0</td>\n",
       "      <td>0.0</td>\n",
       "      <td>1.0</td>\n",
       "      <td>1.0</td>\n",
       "      <td>0.0</td>\n",
       "      <td>0.0</td>\n",
       "      <td>3.0</td>\n",
       "      <td>0.0</td>\n",
       "      <td>0.0</td>\n",
       "      <td>0.0</td>\n",
       "      <td>...</td>\n",
       "      <td>5.0</td>\n",
       "      <td>1401.0</td>\n",
       "      <td>-92.8</td>\n",
       "      <td>13.6</td>\n",
       "      <td>0.0</td>\n",
       "      <td>2023.0</td>\n",
       "      <td>5.0</td>\n",
       "      <td>19.0</td>\n",
       "      <td>0.0</td>\n",
       "      <td>0.0</td>\n",
       "    </tr>\n",
       "    <tr>\n",
       "      <th>4</th>\n",
       "      <td>0.0</td>\n",
       "      <td>0.0</td>\n",
       "      <td>29.0</td>\n",
       "      <td>29.0</td>\n",
       "      <td>1.0</td>\n",
       "      <td>18.0</td>\n",
       "      <td>1.0</td>\n",
       "      <td>0.0</td>\n",
       "      <td>0.0</td>\n",
       "      <td>0.0</td>\n",
       "      <td>...</td>\n",
       "      <td>35.0</td>\n",
       "      <td>2083.0</td>\n",
       "      <td>-92.7</td>\n",
       "      <td>12.4</td>\n",
       "      <td>28.0</td>\n",
       "      <td>2023.0</td>\n",
       "      <td>5.0</td>\n",
       "      <td>19.0</td>\n",
       "      <td>0.0</td>\n",
       "      <td>0.0</td>\n",
       "    </tr>\n",
       "  </tbody>\n",
       "</table>\n",
       "<p>5 rows × 33 columns</p>\n",
       "</div>"
      ],
      "text/plain": [
       "   scgfail  scgfailratio  erabaddsucc  endcaddsucc  endcmodbymenbsucc  \\\n",
       "0      0.0           0.0         12.0         10.0                0.0   \n",
       "1      0.0           0.0         28.0         27.0               11.0   \n",
       "2      1.0           3.7         27.0         17.0                8.0   \n",
       "3      0.0           0.0          1.0          1.0                0.0   \n",
       "4      0.0           0.0         29.0         29.0                1.0   \n",
       "\n",
       "   endcmodbysgnbsucc  connestabsucc  redirectiontolte_coverageout  \\\n",
       "0                0.0            4.0                           0.0   \n",
       "1               33.0            1.0                           0.0   \n",
       "2               15.0            4.0                           1.0   \n",
       "3                0.0            3.0                           0.0   \n",
       "4               18.0            1.0                           0.0   \n",
       "\n",
       "   redirectiontolte_epsfallback  redirectiontolte_emergencyfallback  ...  \\\n",
       "0                           0.0                                 0.0  ...   \n",
       "1                           0.0                                 0.0  ...   \n",
       "2                           0.0                                 0.0  ...   \n",
       "3                           0.0                                 0.0  ...   \n",
       "4                           0.0                                 0.0  ...   \n",
       "\n",
       "   nummsg3  attpaging  rssipathavg  dlreceivedcqiavg  endcrelbymenb    year  \\\n",
       "0     17.0     2243.0        -93.3              11.1            0.0  2023.0   \n",
       "1     39.0     2240.0        -93.5              10.2            4.0  2023.0   \n",
       "2     53.0     1337.0        -92.7              11.3            2.0  2023.0   \n",
       "3      5.0     1401.0        -92.8              13.6            0.0  2023.0   \n",
       "4     35.0     2083.0        -92.7              12.4           28.0  2023.0   \n",
       "\n",
       "   month   day  hour  minute  \n",
       "0    5.0  19.0   0.0     0.0  \n",
       "1    5.0  19.0   0.0     0.0  \n",
       "2    5.0  19.0   0.0     0.0  \n",
       "3    5.0  19.0   0.0     0.0  \n",
       "4    5.0  19.0   0.0     0.0  \n",
       "\n",
       "[5 rows x 33 columns]"
      ]
     },
     "execution_count": 124,
     "metadata": {},
     "output_type": "execute_result"
    }
   ],
   "source": [
    "data.head()"
   ]
  },
  {
   "cell_type": "code",
   "execution_count": 125,
   "id": "1a1ce70d-e938-4d3a-8cfa-73c3cc916f9b",
   "metadata": {},
   "outputs": [
    {
     "name": "stdout",
     "output_type": "stream",
     "text": [
      "(274890, 33)\n"
     ]
    }
   ],
   "source": [
    "print(data.shape)"
   ]
  },
  {
   "cell_type": "code",
   "execution_count": 126,
   "id": "98be79cb-8f9d-4110-a89d-82010f8f3368",
   "metadata": {},
   "outputs": [],
   "source": [
    "scaler = MinMaxScaler()\n",
    "data = scaler.fit_transform(data)"
   ]
  },
  {
   "cell_type": "code",
   "execution_count": 127,
   "id": "e8068e64-d090-4e58-a13e-44a7c7c5368d",
   "metadata": {},
   "outputs": [
    {
     "name": "stderr",
     "output_type": "stream",
     "text": [
      "C:\\Users\\INTEL WIN11PRO(12TH)\\AppData\\Local\\Temp\\ipykernel_24772\\3420448403.py:1: RuntimeWarning: divide by zero encountered in log\n",
      "  data = np.log(data)\n",
      "C:\\Users\\INTEL WIN11PRO(12TH)\\anaconda3\\lib\\site-packages\\pandas\\core\\arraylike.py:397: RuntimeWarning: divide by zero encountered in log\n",
      "  result = getattr(ufunc, method)(*inputs, **kwargs)\n"
     ]
    }
   ],
   "source": [
    "data = np.log(data)\n",
    "labels = np.log(labels)\n",
    "\n",
    "data[data == -np.inf] = 0\n",
    "data[data == np.inf] = 0\n",
    "labels[labels == np.inf] = 0\n",
    "labels[labels == -np.inf] = 0"
   ]
  },
  {
   "cell_type": "code",
   "execution_count": 128,
   "id": "88653557-225f-4e71-aac3-26763cccbe54",
   "metadata": {},
   "outputs": [],
   "source": [
    "train = data[:137445]\n",
    "test = data[137445:]"
   ]
  },
  {
   "cell_type": "code",
   "execution_count": 129,
   "id": "fc47e962-8823-4878-ac3b-9e32d6364ac7",
   "metadata": {},
   "outputs": [
    {
     "name": "stdout",
     "output_type": "stream",
     "text": [
      "The number of dimensions required to preserve 90% of variance is 11\n"
     ]
    }
   ],
   "source": [
    "pca= PCA()\n",
    "pca.fit(train)\n",
    "cumsum = np.cumsum(pca.explained_variance_ratio_)\n",
    "dim = np.argmax(cumsum >= 0.90) + 1\n",
    "print('The number of dimensions required to preserve 90% of variance is',dim)"
   ]
  },
  {
   "cell_type": "code",
   "execution_count": 177,
   "id": "f3626dc6-a9b0-4b25-98c9-d7569283274a",
   "metadata": {},
   "outputs": [
    {
     "name": "stdout",
     "output_type": "stream",
     "text": [
      "Component 1: [ 1.29373007e-01  1.12472876e-01 -1.13581068e-01 -9.14429377e-02\n",
      "  1.16980784e-01 -1.26979957e-01 -3.04893466e-03  3.85162422e-02\n",
      "  1.74296841e-02 -2.52435490e-29  4.91680292e-02  7.51024098e-03\n",
      " -3.45503337e-01 -5.00842575e-01  4.01993737e-01 -4.86335751e-02\n",
      " -1.11379769e-02 -7.99101045e-02 -3.26885872e-01 -4.88521538e-01\n",
      " -3.34915443e-02 -5.54809115e-03 -7.85520259e-02 -1.19859811e-01\n",
      " -3.11315596e-02 -9.75915756e-03 -2.66954573e-03  7.01822867e-02\n",
      "  0.00000000e+00 -1.22198881e-03 -2.80892244e-04 -3.72236742e-02\n",
      "  4.48132379e-04]\n",
      "Component 2: [ 2.67719104e-01  1.93058283e-01 -6.20404448e-04  2.86704785e-02\n",
      "  3.54407138e-01  8.92853990e-02  9.08015842e-02  4.05555862e-02\n",
      "  1.68894704e-02 -0.00000000e+00  1.30410811e-01  4.61736875e-03\n",
      "  4.80976344e-01  4.69498603e-01  3.56447458e-01 -1.26378871e-02\n",
      " -8.70262311e-03  5.81464829e-03 -1.71200850e-01 -1.47339916e-01\n",
      "  3.19737846e-02  1.10093858e-01 -7.88237496e-02 -9.41696584e-02\n",
      " -6.98900905e-02 -2.58138634e-03 -5.42746498e-05  2.48923943e-01\n",
      " -0.00000000e+00 -1.10476816e-03 -8.30296736e-04 -6.52806078e-02\n",
      " -1.03317348e-03]\n",
      "Component 3: [-7.49052674e-01 -5.24924688e-01  4.55976161e-02  4.92483497e-02\n",
      "  1.06590072e-01  6.90541041e-02  6.53420279e-02 -1.10282927e-02\n",
      " -5.02945557e-03 -3.38813179e-21  4.58886850e-02 -2.50840550e-03\n",
      "  1.18132931e-01  5.58802636e-02  2.44416814e-01 -2.58359634e-03\n",
      " -3.53693154e-03 -3.66509367e-02 -1.13458342e-01 -1.76922373e-01\n",
      "  1.84547378e-02  6.55912397e-02  9.12087495e-03  1.04115271e-03\n",
      "  6.76812341e-03  1.49367084e-03 -2.33736077e-03  9.49062731e-02\n",
      "  0.00000000e+00  3.56975001e-03 -9.17823297e-04  7.37058145e-03\n",
      " -1.04900024e-03]\n",
      "Component 4: [-2.64458229e-02 -1.93567908e-02  2.91109252e-02  5.43951738e-02\n",
      "  5.37565563e-01 -2.94101250e-02  2.20509322e-01  1.87691934e-02\n",
      "  6.29805327e-03  0.00000000e+00  1.21005578e-01  2.17738267e-03\n",
      " -2.94011540e-01 -1.81078835e-01 -1.75136167e-01  1.09982448e-02\n",
      " -2.88335947e-03  6.25866894e-02  1.63460053e-01  3.27107146e-01\n",
      "  3.54423576e-02  1.09408242e-02  6.13494659e-03  2.63036562e-02\n",
      " -2.49145895e-02 -5.60247390e-04 -4.35352452e-03  5.92451384e-01\n",
      "  0.00000000e+00  1.76411822e-03  2.84733738e-03 -1.37566241e-02\n",
      " -6.47897710e-04]\n",
      "Component 5: [ 3.50449137e-02  1.84773346e-02  5.32728581e-04 -4.55303450e-03\n",
      " -2.36570828e-01 -2.51832299e-03  6.64634542e-01  8.80585006e-03\n",
      " -5.23201283e-03  3.46944695e-18  2.33414228e-01 -4.65333537e-03\n",
      " -1.32692277e-01 -1.32768464e-02  4.67025960e-01  1.70048503e-02\n",
      "  5.49274771e-04  7.07666782e-02  8.88043367e-02  3.48216645e-01\n",
      "  6.19586216e-02  9.53461057e-02 -1.61610493e-02  5.29944859e-02\n",
      " -1.70250230e-02  1.03760478e-02 -7.85182738e-03 -2.43232976e-01\n",
      " -0.00000000e+00 -1.49270415e-03 -8.80829472e-04 -1.12708673e-02\n",
      "  1.86030766e-03]\n",
      "Component 6: [ 7.16716725e-02  2.92140854e-02  1.94893737e-01  2.11545949e-01\n",
      " -5.28123208e-01  1.28988802e-01 -1.87070499e-01 -4.57988061e-02\n",
      " -1.71951764e-02 -1.11022302e-16 -2.10514007e-01 -6.21591581e-03\n",
      " -2.54925633e-02 -3.12071351e-02  3.45422409e-01  5.61135183e-03\n",
      "  1.37927892e-02 -1.15542779e-02  1.22931298e-01  3.51680229e-02\n",
      "  1.68814127e-02 -2.68064374e-03  1.54090422e-01  1.25163063e-01\n",
      "  8.25587530e-03  2.74824195e-03  1.20978842e-02  5.95874960e-01\n",
      "  0.00000000e+00  4.04148403e-03  1.08835616e-02  3.47656307e-02\n",
      "  2.09998292e-04]\n",
      "Component 7: [ 2.91234619e-02  1.59784425e-02  6.01921096e-02  6.90505601e-02\n",
      " -3.19526065e-01  6.00678866e-02  5.22603809e-01  1.41571217e-02\n",
      "  1.28703173e-03  0.00000000e+00  2.39044182e-01  2.72916988e-05\n",
      "  2.28026276e-01 -1.15380916e-01 -4.93183084e-01 -2.40210670e-02\n",
      " -8.89552378e-03 -9.77137400e-02 -1.04332071e-01 -4.07157910e-01\n",
      " -1.48455665e-02 -1.67051969e-02  1.35935611e-02 -2.21640384e-02\n",
      "  2.44498779e-03  1.92940552e-03 -4.90909330e-04  2.40067796e-01\n",
      "  0.00000000e+00  3.09539660e-03  1.00191030e-02 -2.80069832e-03\n",
      " -7.13596257e-04]\n",
      "Component 8: [-1.03588982e-01 -1.67931487e-02 -3.14631169e-01 -3.00729794e-01\n",
      " -3.27584377e-01 -2.36158771e-01 -1.30504509e-01  1.05169492e-01\n",
      "  5.32858726e-02 -5.20417043e-18  2.37136404e-01  1.86249372e-02\n",
      " -2.82686140e-01  3.81831052e-01 -1.05459805e-01  5.46802170e-04\n",
      " -3.03975952e-02  1.11202600e-01 -3.35277302e-01  1.71018729e-01\n",
      " -6.97830121e-03  7.53141336e-02 -1.34808987e-01 -2.43197013e-01\n",
      " -5.62590328e-02 -2.12674059e-02 -1.83885983e-02  2.58588100e-01\n",
      " -0.00000000e+00 -4.85057883e-03 -2.20148943e-02 -5.30355114e-02\n",
      " -1.19286431e-03]\n",
      "Component 9: [-3.74064235e-02  2.01175283e-03 -2.86873038e-01 -3.23914960e-01\n",
      "  1.40072394e-02 -2.09351392e-01  3.42053167e-01 -1.26987324e-02\n",
      " -8.21989030e-03  5.55111512e-17 -7.65560515e-01 -2.03220259e-03\n",
      "  1.82839364e-01 -3.24296904e-02  6.28586348e-04 -1.22719549e-02\n",
      "  1.94323053e-03  9.78468736e-03 -1.25252687e-02  3.50999254e-02\n",
      "  9.31648367e-03  1.04864147e-02  4.67077516e-02 -9.55189626e-02\n",
      "  2.09442980e-02 -8.10210284e-03  6.48034785e-03  1.17878324e-01\n",
      " -0.00000000e+00  3.25100046e-04  6.69279302e-03  4.38809897e-02\n",
      " -1.90542753e-03]\n",
      "Component 10: [-5.00640845e-02 -1.32663108e-02 -2.59885481e-01 -2.72958807e-01\n",
      " -8.90589086e-02 -2.19670383e-01 -2.01632549e-01  2.87418350e-02\n",
      "  6.35184008e-03  1.11022302e-16  3.43956123e-01  3.69475801e-03\n",
      "  5.25173029e-01 -4.18655851e-01  1.16340203e-01 -1.38202835e-02\n",
      "  9.22726061e-03 -1.83877471e-02  3.30173307e-01  1.53858605e-01\n",
      "  1.50952628e-02 -1.34089206e-01 -5.78519987e-02 -6.92900632e-02\n",
      " -4.29187429e-02  8.17567068e-03  7.41356077e-03  1.04570048e-01\n",
      "  0.00000000e+00 -4.02176123e-03  1.15715380e-02 -4.38411634e-02\n",
      "  5.15454670e-04]\n",
      "Component 11: [-6.14766353e-03  2.04530693e-02  8.27615017e-02  1.29267877e-01\n",
      " -4.90495306e-02  2.23305961e-01 -9.79081835e-02  2.08337528e-01\n",
      "  5.95454798e-02 -3.46944695e-17 -1.07063327e-01  1.77054827e-02\n",
      "  2.18698048e-01 -3.66221177e-01 -1.09969642e-01 -1.16198856e-02\n",
      " -1.60858261e-02  9.57174771e-02 -3.98800119e-01  3.10757158e-01\n",
      "  1.82472556e-01  5.63368483e-01 -1.41534819e-01 -7.93311699e-02\n",
      " -6.43317587e-02 -2.68700453e-02 -1.66348779e-02 -3.71722254e-02\n",
      "  0.00000000e+00 -3.22706097e-03 -7.35137636e-02 -8.51243362e-02\n",
      " -2.75360976e-03]\n"
     ]
    }
   ],
   "source": [
    "pca_components = pca.components_\n",
    "for i, component in enumerate(pca_components[:11]):\n",
    "    print(f\"Component {i+1}: {component}\")"
   ]
  },
  {
   "cell_type": "code",
   "execution_count": 130,
   "id": "61cf4071-06f0-4d9b-a0e8-26fec955ca32",
   "metadata": {},
   "outputs": [],
   "source": [
    "pca = PCA(n_components=11, whiten=True)\n",
    "pca = pca.fit(data)\n",
    "dataPCA = pca.transform(data)"
   ]
  },
  {
   "cell_type": "code",
   "execution_count": 131,
   "id": "56b067f0-ada3-40b2-9dc2-155913df6265",
   "metadata": {},
   "outputs": [
    {
     "data": {
      "text/plain": [
       "(274890, 11)"
      ]
     },
     "execution_count": 131,
     "metadata": {},
     "output_type": "execute_result"
    }
   ],
   "source": [
    "dataPCA.shape"
   ]
  },
  {
   "cell_type": "code",
   "execution_count": 132,
   "id": "4aeee30e-6011-45b6-bf86-5d168c6d2d7c",
   "metadata": {},
   "outputs": [],
   "source": [
    "train = dataPCA[:137445]\n",
    "test = dataPCA[137445:]\n"
   ]
  },
  {
   "cell_type": "code",
   "execution_count": 133,
   "id": "e79ee25a-6759-45c4-9287-97300fda63ce",
   "metadata": {},
   "outputs": [
    {
     "data": {
      "text/plain": [
       "(137445, 11)"
      ]
     },
     "execution_count": 133,
     "metadata": {},
     "output_type": "execute_result"
    }
   ],
   "source": [
    "train.shape"
   ]
  },
  {
   "cell_type": "code",
   "execution_count": 135,
   "id": "6dac1d95-a34a-49b4-8b5a-1128354e367d",
   "metadata": {},
   "outputs": [],
   "source": [
    "X_train, X_test, y_train, y_test = train_test_split(train, labels, test_size = 0.3, random_state = 0)"
   ]
  },
  {
   "cell_type": "code",
   "execution_count": 136,
   "id": "cfde560c-d1b0-4fed-9197-0bd0f34a420b",
   "metadata": {},
   "outputs": [
    {
     "name": "stdout",
     "output_type": "stream",
     "text": [
      "(96211, 11)\n",
      "(41234, 11)\n",
      "(96211,)\n",
      "(41234,)\n"
     ]
    }
   ],
   "source": [
    "print(X_train.shape)\n",
    "print(X_test.shape)\n",
    "print(y_train.shape)\n",
    "print(y_test.shape)"
   ]
  },
  {
   "cell_type": "code",
   "execution_count": 139,
   "id": "8cb6d93a-af69-4d1c-97b6-f9d859b307de",
   "metadata": {},
   "outputs": [
    {
     "data": {
      "text/plain": [
       "0.6614419880478333"
      ]
     },
     "execution_count": 139,
     "metadata": {},
     "output_type": "execute_result"
    }
   ],
   "source": [
    "np.sqrt(np.mean((y_test-np.mean(y_test))**2))"
   ]
  },
  {
   "cell_type": "markdown",
   "id": "03e84d12-dd9e-4d43-8d12-a4b363b34b09",
   "metadata": {},
   "source": [
    "* 선형회귀"
   ]
  },
  {
   "cell_type": "code",
   "execution_count": 140,
   "id": "d4a43cec-44e4-406d-be41-f1f209f8195c",
   "metadata": {},
   "outputs": [],
   "source": [
    "from sklearn.linear_model import LinearRegression"
   ]
  },
  {
   "cell_type": "code",
   "execution_count": 149,
   "id": "311dae01-b86a-49e5-aaed-5d1885ed9362",
   "metadata": {},
   "outputs": [
    {
     "name": "stdout",
     "output_type": "stream",
     "text": [
      "Mean Absolute Error (MAE): 0.2957945966514273\n",
      "Root Mean Squared Error (RMSE): 0.40465096833027103\n",
      "Coefficients: [-0.41746152 -0.23609246 -0.007226    0.01307302  0.01350826  0.06640663\n",
      "  0.01997202 -0.14329921 -0.08033085 -0.05922293 -0.08061903]\n"
     ]
    }
   ],
   "source": [
    "ols_regr = LinearRegression()\n",
    "ols_regr.fit(X_train,y_train)\n",
    "ols_pred = ols_regr.predict(X_test)\n",
    "ols_pred[ols_pred<0,]=0\n",
    "ols_pred\n",
    "mae = mean_absolute_error(y_test, ols_pred)\n",
    "print(\"Mean Absolute Error (MAE):\", mae)\n",
    "\n",
    "rmse = np.sqrt(np.mean((y_test - ols_pred)**2))\n",
    "print(\"Root Mean Squared Error (RMSE):\", rmse)\n",
    "\n",
    "print(\"Coefficients:\", ols_regr.coef_)"
   ]
  },
  {
   "cell_type": "code",
   "execution_count": 147,
   "id": "0c59808b-713c-46a0-94e4-2fa7127c1a26",
   "metadata": {},
   "outputs": [],
   "source": [
    "def modelfit(alg, dtrain, predictors,useTrainCV=True, cv_folds=5, early_stopping_rounds=50): #find the best n_estimators\n",
    "    \n",
    "    if useTrainCV:\n",
    "        xgb_param = alg.get_xgb_params()\n",
    "        xgtrain = xgb.DMatrix(dtrain[predictors].values, label=dtrain[target].values)\n",
    "        cvresult = xgb.cv(xgb_param, xgtrain, num_boost_round=alg.get_params()['n_estimators'], nfold=cv_folds,\n",
    "            metrics='rmse', early_stopping_rounds=early_stopping_rounds)\n",
    "        alg.set_params(n_estimators=cvresult.shape[0])\n",
    "    \n",
    "    #print the best n_estimators\n",
    "    #print(cvresult)\n",
    "    print(\"n_estimators:\", cvresult.shape[0])"
   ]
  },
  {
   "cell_type": "code",
   "execution_count": 150,
   "id": "3e16eac8-4990-4092-80e7-0e64328d5228",
   "metadata": {},
   "outputs": [],
   "source": [
    "xgb_regr = xgb.XGBRegressor( #just arbitrary xgboost\n",
    "    learning_rate=0.1,\n",
    "    n_estimators=1000,\n",
    "    max_depth=5,\n",
    "    min_child_weight=1,\n",
    "    gamma=0,\n",
    "    subsample=0.8,\n",
    "    colsample_bytree=0.8,\n",
    "    objective='reg:squarederror',\n",
    "    nthread=3,\n",
    "    scale_pos_weight=1,\n",
    "    seed=1\n",
    "    )"
   ]
  },
  {
   "cell_type": "code",
   "execution_count": 152,
   "id": "25cf428f-6d55-4779-884c-0e1e3209b185",
   "metadata": {},
   "outputs": [],
   "source": [
    "xgb_regr.fit(X_train, y_train)\n",
    "xgb_pred = xgb_regr.predict(X_test)"
   ]
  },
  {
   "cell_type": "code",
   "execution_count": 155,
   "id": "f8787975-272c-4c7a-9a0c-d0390baf4155",
   "metadata": {},
   "outputs": [
    {
     "name": "stdout",
     "output_type": "stream",
     "text": [
      "Mean Absolute Error (MAE): 0.20986798838256204\n",
      "Root Mean Squared Error (RMSE): 0.27440320426750786\n"
     ]
    }
   ],
   "source": [
    "mae = mean_absolute_error(y_test, xgb_pred)\n",
    "print(\"Mean Absolute Error (MAE):\", mae)\n",
    "\n",
    "rmse = np.sqrt(np.mean((y_test - xgb_pred)**2))\n",
    "print(\"Root Mean Squared Error (RMSE):\", rmse)\n"
   ]
  },
  {
   "cell_type": "code",
   "execution_count": 160,
   "id": "179aa7c1-1d25-4b1e-a80b-4c6af1db37c3",
   "metadata": {},
   "outputs": [],
   "source": [
    "xgb2_regr = xgb.XGBRegressor(\n",
    "    learning_rate=0.1,\n",
    "    n_estimators=1000,\n",
    "    max_depth=13,\n",
    "    min_child_weight=7,\n",
    "    gamma=0,\n",
    "    subsample=0.9,\n",
    "    colsample_bytree=0.9,\n",
    "    objective='reg:squarederror',\n",
    "    nthread=3,\n",
    "    scale_pos_weight=1,\n",
    "    reg_alpha=50,\n",
    "    reg_lambda=0.05,\n",
    "    seed=1\n",
    "    )"
   ]
  },
  {
   "cell_type": "code",
   "execution_count": 161,
   "id": "79c73906-0e83-4f91-a7d4-84696963b4ff",
   "metadata": {},
   "outputs": [],
   "source": [
    "xgb_regr2.fit(X_train, y_train)\n",
    "xgb_pred2 = xgb_regr2.predict(X_test)"
   ]
  },
  {
   "cell_type": "code",
   "execution_count": 162,
   "id": "155ef356-494f-44b1-ab53-66dac7626b51",
   "metadata": {},
   "outputs": [
    {
     "name": "stdout",
     "output_type": "stream",
     "text": [
      "Mean Absolute Error (MAE): 0.21960510657874827\n",
      "Root Mean Squared Error (RMSE): 0.28728570239402196\n"
     ]
    }
   ],
   "source": [
    "mae = mean_absolute_error(y_test, xgb_pred2)\n",
    "print(\"Mean Absolute Error (MAE):\", mae)\n",
    "\n",
    "rmse = np.sqrt(np.mean((y_test - xgb_pred2)**2))\n",
    "print(\"Root Mean Squared Error (RMSE):\", rmse)\n"
   ]
  },
  {
   "cell_type": "code",
   "execution_count": null,
   "id": "cb07c487-23d2-4973-b242-8c1eb9f9536d",
   "metadata": {},
   "outputs": [],
   "source": [
    "submission_data = pd.read_csv(\"./csv_file/Q1_label_sample.csv\")"
   ]
  },
  {
   "cell_type": "code",
   "execution_count": 171,
   "id": "5254f3a9-02e8-47d2-b611-daf3ac9cc87e",
   "metadata": {
    "collapsed": true,
    "jupyter": {
     "outputs_hidden": true
    },
    "tags": []
   },
   "outputs": [
    {
     "ename": "ValueError",
     "evalue": "array length 41234 does not match index length 137445",
     "output_type": "error",
     "traceback": [
      "\u001b[1;31m---------------------------------------------------------------------------\u001b[0m",
      "\u001b[1;31mValueError\u001b[0m                                Traceback (most recent call last)",
      "\u001b[1;32m~\\AppData\\Local\\Temp\\ipykernel_24772\\1056469988.py\u001b[0m in \u001b[0;36m<module>\u001b[1;34m\u001b[0m\n\u001b[1;32m----> 1\u001b[1;33m result_df = pd.DataFrame({\n\u001b[0m\u001b[0;32m      2\u001b[0m \u001b[1;34m'datetime'\u001b[0m\u001b[1;33m:\u001b[0m \u001b[0mtest_df\u001b[0m\u001b[1;33m[\u001b[0m\u001b[1;34m'datetime'\u001b[0m\u001b[1;33m]\u001b[0m\u001b[1;33m,\u001b[0m\u001b[1;33m\u001b[0m\u001b[1;33m\u001b[0m\u001b[0m\n\u001b[0;32m      3\u001b[0m \u001b[1;34m'BaseStationB'\u001b[0m\u001b[1;33m:\u001b[0m \u001b[0mnp\u001b[0m\u001b[1;33m.\u001b[0m\u001b[0mexp\u001b[0m\u001b[1;33m(\u001b[0m\u001b[0mxgb_pred\u001b[0m\u001b[1;33m)\u001b[0m\u001b[1;33m,\u001b[0m\u001b[1;33m\u001b[0m\u001b[1;33m\u001b[0m\u001b[0m\n\u001b[0;32m      4\u001b[0m     \u001b[1;34m'BaseStationJ'\u001b[0m\u001b[1;33m:\u001b[0m \u001b[0mnp\u001b[0m\u001b[1;33m.\u001b[0m\u001b[0mexp\u001b[0m\u001b[1;33m(\u001b[0m\u001b[0mxgb_pred\u001b[0m\u001b[1;33m)\u001b[0m\u001b[1;33m\u001b[0m\u001b[1;33m\u001b[0m\u001b[0m\n\u001b[0;32m      5\u001b[0m })\n",
      "\u001b[1;32m~\\anaconda3\\lib\\site-packages\\pandas\\core\\frame.py\u001b[0m in \u001b[0;36m__init__\u001b[1;34m(self, data, index, columns, dtype, copy)\u001b[0m\n\u001b[0;32m    634\u001b[0m         \u001b[1;32melif\u001b[0m \u001b[0misinstance\u001b[0m\u001b[1;33m(\u001b[0m\u001b[0mdata\u001b[0m\u001b[1;33m,\u001b[0m \u001b[0mdict\u001b[0m\u001b[1;33m)\u001b[0m\u001b[1;33m:\u001b[0m\u001b[1;33m\u001b[0m\u001b[1;33m\u001b[0m\u001b[0m\n\u001b[0;32m    635\u001b[0m             \u001b[1;31m# GH#38939 de facto copy defaults to False only in non-dict cases\u001b[0m\u001b[1;33m\u001b[0m\u001b[1;33m\u001b[0m\u001b[0m\n\u001b[1;32m--> 636\u001b[1;33m             \u001b[0mmgr\u001b[0m \u001b[1;33m=\u001b[0m \u001b[0mdict_to_mgr\u001b[0m\u001b[1;33m(\u001b[0m\u001b[0mdata\u001b[0m\u001b[1;33m,\u001b[0m \u001b[0mindex\u001b[0m\u001b[1;33m,\u001b[0m \u001b[0mcolumns\u001b[0m\u001b[1;33m,\u001b[0m \u001b[0mdtype\u001b[0m\u001b[1;33m=\u001b[0m\u001b[0mdtype\u001b[0m\u001b[1;33m,\u001b[0m \u001b[0mcopy\u001b[0m\u001b[1;33m=\u001b[0m\u001b[0mcopy\u001b[0m\u001b[1;33m,\u001b[0m \u001b[0mtyp\u001b[0m\u001b[1;33m=\u001b[0m\u001b[0mmanager\u001b[0m\u001b[1;33m)\u001b[0m\u001b[1;33m\u001b[0m\u001b[1;33m\u001b[0m\u001b[0m\n\u001b[0m\u001b[0;32m    637\u001b[0m         \u001b[1;32melif\u001b[0m \u001b[0misinstance\u001b[0m\u001b[1;33m(\u001b[0m\u001b[0mdata\u001b[0m\u001b[1;33m,\u001b[0m \u001b[0mma\u001b[0m\u001b[1;33m.\u001b[0m\u001b[0mMaskedArray\u001b[0m\u001b[1;33m)\u001b[0m\u001b[1;33m:\u001b[0m\u001b[1;33m\u001b[0m\u001b[1;33m\u001b[0m\u001b[0m\n\u001b[0;32m    638\u001b[0m             \u001b[1;32mimport\u001b[0m \u001b[0mnumpy\u001b[0m\u001b[1;33m.\u001b[0m\u001b[0mma\u001b[0m\u001b[1;33m.\u001b[0m\u001b[0mmrecords\u001b[0m \u001b[1;32mas\u001b[0m \u001b[0mmrecords\u001b[0m\u001b[1;33m\u001b[0m\u001b[1;33m\u001b[0m\u001b[0m\n",
      "\u001b[1;32m~\\anaconda3\\lib\\site-packages\\pandas\\core\\internals\\construction.py\u001b[0m in \u001b[0;36mdict_to_mgr\u001b[1;34m(data, index, columns, dtype, typ, copy)\u001b[0m\n\u001b[0;32m    500\u001b[0m         \u001b[1;31m# TODO: can we get rid of the dt64tz special case above?\u001b[0m\u001b[1;33m\u001b[0m\u001b[1;33m\u001b[0m\u001b[0m\n\u001b[0;32m    501\u001b[0m \u001b[1;33m\u001b[0m\u001b[0m\n\u001b[1;32m--> 502\u001b[1;33m     \u001b[1;32mreturn\u001b[0m \u001b[0marrays_to_mgr\u001b[0m\u001b[1;33m(\u001b[0m\u001b[0marrays\u001b[0m\u001b[1;33m,\u001b[0m \u001b[0mcolumns\u001b[0m\u001b[1;33m,\u001b[0m \u001b[0mindex\u001b[0m\u001b[1;33m,\u001b[0m \u001b[0mdtype\u001b[0m\u001b[1;33m=\u001b[0m\u001b[0mdtype\u001b[0m\u001b[1;33m,\u001b[0m \u001b[0mtyp\u001b[0m\u001b[1;33m=\u001b[0m\u001b[0mtyp\u001b[0m\u001b[1;33m,\u001b[0m \u001b[0mconsolidate\u001b[0m\u001b[1;33m=\u001b[0m\u001b[0mcopy\u001b[0m\u001b[1;33m)\u001b[0m\u001b[1;33m\u001b[0m\u001b[1;33m\u001b[0m\u001b[0m\n\u001b[0m\u001b[0;32m    503\u001b[0m \u001b[1;33m\u001b[0m\u001b[0m\n\u001b[0;32m    504\u001b[0m \u001b[1;33m\u001b[0m\u001b[0m\n",
      "\u001b[1;32m~\\anaconda3\\lib\\site-packages\\pandas\\core\\internals\\construction.py\u001b[0m in \u001b[0;36marrays_to_mgr\u001b[1;34m(arrays, columns, index, dtype, verify_integrity, typ, consolidate)\u001b[0m\n\u001b[0;32m    118\u001b[0m         \u001b[1;31m# figure out the index, if necessary\u001b[0m\u001b[1;33m\u001b[0m\u001b[1;33m\u001b[0m\u001b[0m\n\u001b[0;32m    119\u001b[0m         \u001b[1;32mif\u001b[0m \u001b[0mindex\u001b[0m \u001b[1;32mis\u001b[0m \u001b[1;32mNone\u001b[0m\u001b[1;33m:\u001b[0m\u001b[1;33m\u001b[0m\u001b[1;33m\u001b[0m\u001b[0m\n\u001b[1;32m--> 120\u001b[1;33m             \u001b[0mindex\u001b[0m \u001b[1;33m=\u001b[0m \u001b[0m_extract_index\u001b[0m\u001b[1;33m(\u001b[0m\u001b[0marrays\u001b[0m\u001b[1;33m)\u001b[0m\u001b[1;33m\u001b[0m\u001b[1;33m\u001b[0m\u001b[0m\n\u001b[0m\u001b[0;32m    121\u001b[0m         \u001b[1;32melse\u001b[0m\u001b[1;33m:\u001b[0m\u001b[1;33m\u001b[0m\u001b[1;33m\u001b[0m\u001b[0m\n\u001b[0;32m    122\u001b[0m             \u001b[0mindex\u001b[0m \u001b[1;33m=\u001b[0m \u001b[0mensure_index\u001b[0m\u001b[1;33m(\u001b[0m\u001b[0mindex\u001b[0m\u001b[1;33m)\u001b[0m\u001b[1;33m\u001b[0m\u001b[1;33m\u001b[0m\u001b[0m\n",
      "\u001b[1;32m~\\anaconda3\\lib\\site-packages\\pandas\\core\\internals\\construction.py\u001b[0m in \u001b[0;36m_extract_index\u001b[1;34m(data)\u001b[0m\n\u001b[0;32m    686\u001b[0m                         \u001b[1;34mf\"length {len(index)}\"\u001b[0m\u001b[1;33m\u001b[0m\u001b[1;33m\u001b[0m\u001b[0m\n\u001b[0;32m    687\u001b[0m                     )\n\u001b[1;32m--> 688\u001b[1;33m                     \u001b[1;32mraise\u001b[0m \u001b[0mValueError\u001b[0m\u001b[1;33m(\u001b[0m\u001b[0mmsg\u001b[0m\u001b[1;33m)\u001b[0m\u001b[1;33m\u001b[0m\u001b[1;33m\u001b[0m\u001b[0m\n\u001b[0m\u001b[0;32m    689\u001b[0m             \u001b[1;32melse\u001b[0m\u001b[1;33m:\u001b[0m\u001b[1;33m\u001b[0m\u001b[1;33m\u001b[0m\u001b[0m\n\u001b[0;32m    690\u001b[0m                 \u001b[0mindex\u001b[0m \u001b[1;33m=\u001b[0m \u001b[0mdefault_index\u001b[0m\u001b[1;33m(\u001b[0m\u001b[0mlengths\u001b[0m\u001b[1;33m[\u001b[0m\u001b[1;36m0\u001b[0m\u001b[1;33m]\u001b[0m\u001b[1;33m)\u001b[0m\u001b[1;33m\u001b[0m\u001b[1;33m\u001b[0m\u001b[0m\n",
      "\u001b[1;31mValueError\u001b[0m: array length 41234 does not match index length 137445"
     ]
    }
   ],
   "source": [
    "result_df = pd.DataFrame({\n",
    "    'datetime': test_df['datetime'].iloc[:len(xgb_pred)],\n",
    "    'BaseStationB': np.exp(xgb_pred),\n",
    "    'BaseStationJ': np.exp(xgb_pred)\n",
    "})"
   ]
  },
  {
   "cell_type": "code",
   "execution_count": null,
   "id": "8566f5f5-854a-4316-a6f6-e3782d61a639",
   "metadata": {},
   "outputs": [],
   "source": [
    "result_df.to_csv(\"result.csv\", index=True)"
   ]
  }
 ],
 "metadata": {
  "kernelspec": {
   "display_name": "Python 3 (ipykernel)",
   "language": "python",
   "name": "python3"
  },
  "language_info": {
   "codemirror_mode": {
    "name": "ipython",
    "version": 3
   },
   "file_extension": ".py",
   "mimetype": "text/x-python",
   "name": "python",
   "nbconvert_exporter": "python",
   "pygments_lexer": "ipython3",
   "version": "3.11.3"
  }
 },
 "nbformat": 4,
 "nbformat_minor": 5
}
